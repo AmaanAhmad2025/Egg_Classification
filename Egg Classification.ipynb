{
 "cells": [
  {
   "cell_type": "markdown",
   "id": "4ed11a5c-cf08-4820-8ab7-4918c071d17d",
   "metadata": {},
   "source": [
    "# Egg Classification"
   ]
  },
  {
   "cell_type": "code",
   "execution_count": 52,
   "id": "66b68519-0bd2-44db-be30-218941c758a0",
   "metadata": {},
   "outputs": [
    {
     "data": {
      "text/plain": [
       "['White egg']"
      ]
     },
     "execution_count": 52,
     "metadata": {},
     "output_type": "execute_result"
    }
   ],
   "source": [
    "import os\n",
    "from dotenv import load_dotenv\n",
    "from inference_sdk import InferenceHTTPClient\n",
    "\n",
    "# Load the environment variables from the .env file\n",
    "load_dotenv()\n",
    "\n",
    "# Retrieve the API key\n",
    "api_key = os.getenv(\"ROBLOFLOW_API_KEY\")\n",
    "\n",
    "# Initialize the InferenceHTTPClient with the API key\n",
    "CLIENT = InferenceHTTPClient(\n",
    "    api_url=\"https://detect.roboflow.com\",\n",
    "    api_key=api_key\n",
    ")\n",
    "# infer on a local image\n",
    "#result = CLIENT.infer(\"C:/Users/Hp/Documents/download (4).jpeg\", model_id=\"egg-classification-xppva/4\")\n",
    "result = CLIENT.infer(r\"C:\\Users\\Hp\\Documents\\Amaan Ahmad_\\download (5).jpeg\", model_id=\"egg-classification-xppva/4\")\n",
    "result[\"predicted_classes\"]"
   ]
  },
  {
   "cell_type": "code",
   "execution_count": null,
   "id": "b8af9177-c153-44da-afb4-a06a208eb326",
   "metadata": {},
   "outputs": [],
   "source": []
  }
 ],
 "metadata": {
  "kernelspec": {
   "display_name": "Python 3 (ipykernel)",
   "language": "python",
   "name": "python3"
  },
  "language_info": {
   "codemirror_mode": {
    "name": "ipython",
    "version": 3
   },
   "file_extension": ".py",
   "mimetype": "text/x-python",
   "name": "python",
   "nbconvert_exporter": "python",
   "pygments_lexer": "ipython3",
   "version": "3.12.4"
  }
 },
 "nbformat": 4,
 "nbformat_minor": 5
}
